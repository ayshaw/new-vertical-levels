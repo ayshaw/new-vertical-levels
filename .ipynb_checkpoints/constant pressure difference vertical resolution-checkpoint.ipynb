{
 "cells": [
  {
   "cell_type": "code",
   "execution_count": 79,
   "metadata": {},
   "outputs": [],
   "source": [
    "import numpy as np\n",
    "from scipy.optimize import fsolve\n",
    "from scipy.optimize import newton_krylov\n",
    "from sympy import Symbol, nsolve\n",
    "import sympy\n",
    "import mpmath\n",
    "mpmath.mp.dps = 15\n",
    "import matplotlib.pyplot as plt"
   ]
  },
  {
   "cell_type": "code",
   "execution_count": 87,
   "metadata": {},
   "outputs": [
    {
     "data": {
      "text/plain": [
       "array([1.00e+05, 9.94e+04, 9.88e+04, 9.82e+04, 9.76e+04, 9.70e+04,\n",
       "       9.64e+04, 9.58e+04, 9.52e+04, 9.46e+04, 9.40e+04, 9.34e+04,\n",
       "       9.28e+04, 9.22e+04, 9.16e+04, 9.10e+04, 9.04e+04, 8.98e+04,\n",
       "       8.92e+04, 8.86e+04, 8.80e+04, 8.74e+04, 8.68e+04, 8.62e+04,\n",
       "       8.56e+04, 8.50e+04, 8.44e+04, 8.38e+04, 8.32e+04, 8.26e+04,\n",
       "       8.20e+04, 8.14e+04, 8.08e+04, 8.02e+04, 7.96e+04, 7.90e+04,\n",
       "       7.84e+04, 7.78e+04, 7.72e+04, 7.66e+04, 7.60e+04, 7.54e+04,\n",
       "       7.48e+04, 7.42e+04, 7.36e+04, 7.30e+04, 7.24e+04, 7.18e+04,\n",
       "       7.12e+04, 7.06e+04, 7.00e+04, 6.94e+04, 6.88e+04, 6.82e+04,\n",
       "       6.76e+04, 6.70e+04, 6.64e+04, 6.58e+04, 6.52e+04, 6.46e+04,\n",
       "       6.40e+04, 6.34e+04, 6.28e+04, 6.22e+04, 6.16e+04, 6.10e+04,\n",
       "       6.04e+04, 5.98e+04, 5.92e+04, 5.86e+04, 5.80e+04, 5.74e+04,\n",
       "       5.68e+04, 5.62e+04, 5.56e+04, 5.50e+04, 5.44e+04, 5.38e+04,\n",
       "       5.32e+04, 5.26e+04, 5.20e+04, 5.14e+04, 5.08e+04, 5.02e+04,\n",
       "       4.96e+04, 4.90e+04, 4.84e+04, 4.78e+04, 4.72e+04, 4.66e+04,\n",
       "       4.60e+04, 4.54e+04, 4.48e+04, 4.42e+04, 4.36e+04, 4.30e+04,\n",
       "       4.24e+04, 4.18e+04, 4.12e+04, 4.06e+04, 4.00e+04, 3.94e+04,\n",
       "       3.88e+04, 3.82e+04, 3.76e+04, 3.70e+04, 3.64e+04, 3.58e+04,\n",
       "       3.52e+04, 3.46e+04, 3.40e+04, 3.34e+04, 3.28e+04, 3.22e+04,\n",
       "       3.16e+04, 3.10e+04, 3.04e+04, 2.98e+04, 2.92e+04, 2.86e+04,\n",
       "       2.80e+04, 2.74e+04, 2.68e+04, 2.62e+04, 2.56e+04, 2.50e+04,\n",
       "       2.44e+04, 2.38e+04, 2.32e+04, 2.26e+04, 2.20e+04, 2.14e+04,\n",
       "       2.08e+04, 2.02e+04, 1.96e+04, 1.90e+04, 1.84e+04, 1.78e+04,\n",
       "       1.72e+04, 1.66e+04, 1.60e+04, 1.54e+04, 1.48e+04, 1.42e+04,\n",
       "       1.36e+04, 1.30e+04, 1.24e+04, 1.18e+04, 1.12e+04, 1.06e+04,\n",
       "       1.00e+04, 9.40e+03, 8.80e+03, 8.20e+03, 7.60e+03, 7.00e+03,\n",
       "       6.40e+03, 5.80e+03, 5.20e+03, 4.60e+03, 4.00e+03, 3.40e+03,\n",
       "       2.80e+03, 2.20e+03, 1.60e+03, 1.00e+03, 4.00e+02, 1.00e+00])"
      ]
     },
     "execution_count": 87,
     "metadata": {},
     "output_type": "execute_result"
    }
   ],
   "source": [
    "deltaP = 600\n",
    "Psurf=1e5\n",
    "Pedge = np.arange(Psurf,0,-deltaP)\n",
    "Pedge = np.append(Pedge,1)\n",
    "vres = len(Pedge)-1\n",
    "ak = np.linspace(1,0,vres)\n",
    "bk = np.linspace(0,1,vres)\n",
    "Pedge"
   ]
  },
  {
   "cell_type": "code",
   "execution_count": 88,
   "metadata": {
    "scrolled": true
   },
   "outputs": [
    {
     "name": "stdout",
     "output_type": "stream",
     "text": [
      "[1.00e+00 9.94e+04 9.88e+04 9.82e+04 9.76e+04 9.70e+04 9.64e+04 9.58e+04\n",
      " 9.52e+04 9.46e+04 9.40e+04 9.34e+04 9.28e+04 9.22e+04 9.16e+04 9.10e+04\n",
      " 9.04e+04 8.98e+04 8.92e+04 8.86e+04 8.80e+04 8.74e+04 8.68e+04 8.62e+04\n",
      " 8.56e+04 8.50e+04 8.44e+04 8.38e+04 8.32e+04 8.26e+04 8.20e+04 8.14e+04\n",
      " 8.08e+04 8.02e+04 7.96e+04 7.90e+04 7.84e+04 7.78e+04 7.72e+04 7.66e+04\n",
      " 7.60e+04 7.54e+04 7.48e+04 7.42e+04 7.36e+04 7.30e+04 7.24e+04 7.18e+04\n",
      " 7.12e+04 7.06e+04 7.00e+04 6.94e+04 6.88e+04 6.82e+04 6.76e+04 6.70e+04\n",
      " 6.64e+04 6.58e+04 6.52e+04 6.46e+04 6.40e+04 6.34e+04 6.28e+04 6.22e+04\n",
      " 6.16e+04 6.10e+04 6.04e+04 5.98e+04 5.92e+04 5.86e+04 5.80e+04 5.74e+04\n",
      " 5.68e+04 5.62e+04 5.56e+04 5.50e+04 5.44e+04 5.38e+04 5.32e+04 5.26e+04\n",
      " 5.20e+04 5.14e+04 5.08e+04 5.02e+04 4.96e+04 4.90e+04 4.84e+04 4.78e+04\n",
      " 4.72e+04 4.66e+04 4.60e+04 4.54e+04 4.48e+04 4.42e+04 4.36e+04 4.30e+04\n",
      " 4.24e+04 4.18e+04 4.12e+04 4.06e+04 4.00e+04 3.94e+04 3.88e+04 3.82e+04\n",
      " 3.76e+04 3.70e+04 3.64e+04 3.58e+04 3.52e+04 3.46e+04 3.40e+04 3.34e+04\n",
      " 3.28e+04 3.22e+04 3.16e+04 3.10e+04 3.04e+04 2.98e+04 2.92e+04 2.86e+04\n",
      " 2.80e+04 2.74e+04 2.68e+04 2.62e+04 2.56e+04 2.50e+04 2.44e+04 2.38e+04\n",
      " 2.32e+04 2.26e+04 2.20e+04 2.14e+04 2.08e+04 2.02e+04 1.96e+04 1.90e+04\n",
      " 1.84e+04 1.78e+04 1.72e+04 1.66e+04 1.60e+04 1.54e+04 1.48e+04 1.42e+04\n",
      " 1.36e+04 1.30e+04 1.24e+04 1.18e+04 1.12e+04 1.06e+04 1.00e+04 9.40e+03\n",
      " 8.80e+03 8.20e+03 7.60e+03 7.00e+03 6.40e+03 5.80e+03 5.20e+03 4.60e+03\n",
      " 4.00e+03 3.40e+03 2.80e+03 2.20e+03 1.60e+03 1.00e+03 0.00e+00]\n",
      "[ 0.00000000e+00 -2.27361397e-12 -3.17133060e-12  6.28125150e-12\n",
      " -4.54751898e-13 -6.50855469e-12 -4.09262157e-12  1.75687029e-12\n",
      "  2.75688791e-12 -2.27361397e-12 -1.10697526e-12 -5.91162916e-12\n",
      " -4.54751898e-13  5.00227088e-12 -4.09262157e-12  4.80130692e-12\n",
      "  6.82127848e-12 -2.27361397e-12  1.93760689e-12 -5.91177468e-12\n",
      " -4.54751898e-13 -1.90646548e-12 -4.09262157e-12  4.90549968e-12\n",
      "  6.82113296e-12 -2.27361397e-12  3.02173541e-12 -5.91162916e-12\n",
      " -4.54751898e-13 -8.22191432e-13 -4.09276709e-12 -6.60197892e-12\n",
      "  6.82127848e-12 -2.27375949e-12  5.08609075e-12 -7.19060978e-12\n",
      " -4.54751898e-13  2.22209968e-12 -4.09276709e-12 -5.51770487e-12\n",
      "  6.82113296e-12 -2.27375949e-12  7.15044609e-12 -4.46209839e-12\n",
      " -4.54751898e-13  3.30637372e-12 -4.09276709e-12 -2.47341377e-12\n",
      "  6.82127848e-12 -2.27361397e-12 -6.31719509e-12 -5.91177468e-12\n",
      " -4.54751898e-13  5.37087458e-12 -4.09276709e-12 -1.38899420e-12\n",
      "  6.82127848e-12 -2.27375949e-12 -9.94633352e-14  1.38382822e-12\n",
      " -3.28207178e-12 -6.81764046e-14  3.18326329e-12 -9.16270505e-13\n",
      "  2.29769763e-12 -1.16067237e-12 -1.46371903e-12 -2.61253147e-12\n",
      "  6.01291150e-13 -2.85707885e-12  3.18326329e-12  3.57085743e-12\n",
      " -1.09489705e-12  2.72276333e-12  3.18326329e-12  1.27083147e-12\n",
      " -2.79130353e-12  4.22591844e-13 -3.51010257e-12 -1.63295950e-12\n",
      "  2.78839312e-12 -1.27366912e-12  2.98426386e-12 -2.72552822e-12\n",
      "  4.88367159e-13 -3.57369508e-12  3.18319053e-12  2.85409567e-12\n",
      " -1.81165880e-12  2.00592881e-12  2.55825228e-13  5.53996953e-13\n",
      " -2.90430028e-12  9.13360093e-13  3.18319053e-12 -5.38571768e-13\n",
      " -4.54751898e-13 -2.27375949e-12  3.18326329e-12  2.64323631e-12\n",
      " -4.54751898e-13 -2.27375949e-12  3.18326329e-12  1.36425570e-12\n",
      " -4.54751898e-13 -2.27368673e-12  3.18326329e-12 -8.52750760e-14\n",
      " -4.54751898e-13 -1.42100873e-13  3.18319053e-12  1.36425570e-12\n",
      " -4.54751898e-13 -5.25802335e-13 -4.54751898e-13  1.36425570e-12\n",
      " -4.54751898e-13  1.56325513e-13 -4.54751898e-13  1.36425570e-12\n",
      " -4.54751898e-13 -1.74792078e-12 -4.54751898e-13  1.36429208e-12\n",
      " -4.54751898e-13  1.67687034e-12 -4.54751898e-13  1.36425570e-12\n",
      " -4.54751898e-13  1.36421932e-12 -4.54751898e-13  1.36425570e-12\n",
      " -4.54751898e-13  1.36425570e-12 -4.54751898e-13  1.36425570e-12\n",
      " -4.54751898e-13  1.36425570e-12 -4.54751898e-13  1.36425570e-12\n",
      " -4.54751898e-13 -4.54751898e-13 -4.54751898e-13 -4.54751898e-13\n",
      " -4.54751898e-13 -4.54751898e-13 -4.54751898e-13 -4.54751898e-13\n",
      " -4.54751898e-13 -4.54751898e-13 -4.54751898e-13 -4.54751898e-13\n",
      " -4.54751898e-13 -4.54751898e-13  4.54742803e-13  4.54742803e-13\n",
      "  4.54742803e-13  4.54742803e-13  4.54742803e-13  4.54742803e-13\n",
      "  0.00000000e+00  0.00000000e+00  0.00000000e+00  0.00000000e+00\n",
      "  4.10436326e-14 -5.70941008e-15  1.00000000e+00]\n"
     ]
    }
   ],
   "source": [
    "for tick_d in range(1,len(ak)-1):\n",
    "    f =lambda x: Pedge[tick_d]-(x + Psurf*(Pedge[tick_d]-x)/(Psurf-Pedge[vres]))\n",
    "    ak[tick_d] = fsolve(f,0)\n",
    "    bk[tick_d] = (Pedge[tick_d]-ak[tick_d])/(Psurf-Pedge[vres])\n",
    "print(ak)\n",
    "print(bk)"
   ]
  },
  {
   "cell_type": "code",
   "execution_count": 89,
   "metadata": {},
   "outputs": [],
   "source": [
    "da = ak[1:vres]-ak[0:vres-1]\n",
    "db = bk[1:vres]-bk[0:vres-1]"
   ]
  },
  {
   "cell_type": "code",
   "execution_count": 90,
   "metadata": {},
   "outputs": [
    {
     "data": {
      "text/plain": [
       "99999.0"
      ]
     },
     "execution_count": 90,
     "metadata": {},
     "output_type": "execute_result"
    }
   ],
   "source": [
    "cumsum = np.sum(da+db*(Psurf))\n",
    "cumsum"
   ]
  },
  {
   "cell_type": "code",
   "execution_count": 96,
   "metadata": {},
   "outputs": [
    {
     "data": {
      "text/plain": [
       "[<matplotlib.lines.Line2D at 0x15201d88d0>]"
      ]
     },
     "execution_count": 96,
     "metadata": {},
     "output_type": "execute_result"
    },
    {
     "data": {
      "image/png": "[encoded data removed]",
      "text/plain": [
       "<matplotlib.figure.Figure at 0x15202bda58>"
      ]
     },
     "metadata": {},
     "output_type": "display_data"
    }
   ],
   "source": [
    "pedgediff1 = Pedge[1:vres]-Pedge[0:vres-1]\n",
    "pedgediff2 = pedgediff1[0:vres-2] - pedgediff1[1:vres-1]\n",
    "plt.plot(pedgediff1/100,'k-*')\n",
    "plt.plot(pedgediff2/100,'b-*')"
   ]
  },
  {
   "cell_type": "code",
   "execution_count": 51,
   "metadata": {},
   "outputs": [],
   "source": [
    "pressures = [ 1000, 975, 950, 925, 900, 875, 850, 825, 800, 775, 750, 725, 700, 650, 600, 550, 500, 450, 400, 350, 300, 250, 200,\n",
    "              150, 100, 70, 50, 40, 30, 20, 10, 7, 5, 4, 3, 2, 1, 0.7, 0.5, 0.4, 0.3, 0.1 ]\n",
    "\n",
    "temperatures = [ 299.554, 297.44, 295.365, 293.707, 292.556, 291.751, 291.033, 290.003, 288.784, 287.429, 285.975, 284.441, \n",
    "                 282.832, 279.649, 276.402, 272.777, 268.692, 264.135, 258.698, 252.264, 243.859, 233.459, 220.422, 204.836, \n",
    "                 190.977, 197.927, 206.45, 210.703, 215.665, 221.918, 231.624, 236.474, 241.644, 245.74, 251.844, 260.27, 265.22, \n",
    "                 262.113, 255.687, 250.754, 244.291, 223.859 ]"
   ]
  },
  {
   "cell_type": "code",
   "execution_count": 116,
   "metadata": {},
   "outputs": [],
   "source": [
    "pvals = np.polyfit(pressures,temperatures,8)\n",
    "tempapprox = np.polyval(pvals,pressures)\n",
    "pmid = 0.5 * ( Pedge[0:vres-1]   + Pedge[1:vres] )\n",
    "tempat = np.polyval(pvals,pmid/100)\n",
    "pkappamid = (pmid/Psurf)**0.286\n",
    "pkappaedge = (Pedge/Psurf)**0.286\n",
    "theta = tempat137/pkappa137mid\n",
    "dpkedge = pkappaedge[1:vres] - pkappaedge[0:vres-1];\n",
    "zedges = np.zeros([vres+1])"
   ]
  },
  {
   "cell_type": "code",
   "execution_count": 117,
   "metadata": {},
   "outputs": [
    {
     "data": {
      "image/png": "[encoded data removed]",
      "text/plain": [
       "<matplotlib.figure.Figure at 0x15208c45f8>"
      ]
     },
     "metadata": {},
     "output_type": "display_data"
    }
   ],
   "source": [
    "\n",
    "for iz in range(vres-2,-1,-1):\n",
    "    zedges[iz] = zedges[iz+1] + (1003/9.8)*theta[iz]*dpkedge[iz]\n",
    "\n",
    "zedgediff = zedges[1:vres]-zedges[0:vres-1];\n",
    "\n",
    "plt.plot(pmid/100,zedgediff/1000,'r*')\n",
    "plt.axis([800, 1000, 0, 0.1])\n",
    "plt.xlabel('pmid [hpa]')\n",
    "plt.ylabel('zedediff137 [km]')\n",
    "plt.title('132 [blue], 137 [red]'),\n",
    "plt.show()\n",
    "\n",
    "\n"
   ]
  }
 ],
 "metadata": {
  "kernelspec": {
   "display_name": "Python 3",
   "language": "python",
   "name": "python3"
  },
  "language_info": {
   "codemirror_mode": {
    "name": "ipython",
    "version": 3
   },
   "file_extension": ".py",
   "mimetype": "text/x-python",
   "name": "python",
   "nbconvert_exporter": "python",
   "pygments_lexer": "ipython3",
   "version": "3.6.4"
  }
 },
 "nbformat": 4,
 "nbformat_minor": 2
}
